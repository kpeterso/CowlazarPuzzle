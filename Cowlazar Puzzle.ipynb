{
 "cells": [
  {
   "cell_type": "code",
   "execution_count": 1,
   "metadata": {
    "collapsed": true
   },
   "outputs": [],
   "source": [
    "#import nltk\n",
    "#nltk.download()\n",
    "from nltk.corpus import words\n",
    "wordList = words.words()"
   ]
  },
  {
   "cell_type": "code",
   "execution_count": 2,
   "metadata": {
    "collapsed": false
   },
   "outputs": [],
   "source": [
    "#Define the word lengths for each word\n",
    "l = {}\n",
    "#9 horizontal words\n",
    "#10 vertical words\n",
    "l[1] = 6\n",
    "l[2] = 9\n",
    "l[3] = 8\n",
    "l[4] = 5\n",
    "l[5] = 12\n",
    "l[6] = 7\n",
    "l[7] = 6\n",
    "l[8] = 6\n",
    "l[9] = 6\n",
    "l[10] = 5\n",
    "l[11] = 3\n",
    "l[12] = 9\n",
    "l[13] = 5\n",
    "l[14] = 5\n",
    "l[15] = 6\n",
    "l[16] = 5\n",
    "l[17] = 4\n",
    "l[18] = 6\n",
    "l[19] = 7\n",
    "l[20] = 7"
   ]
  },
  {
   "cell_type": "code",
   "execution_count": 34,
   "metadata": {
    "collapsed": true
   },
   "outputs": [],
   "source": [
    "#Word Dependancies\n",
    "#for each word (1 - 19), list the character that depends on another word, the other word, and the character of that other word\n",
    "#character dependance will start with zero (which is not consistent, I know)\n",
    "dependance = {}\n",
    "#1\n",
    "dependance[1] = [[5,2,0]]\n",
    "#2\n",
    "dependance[2] = [[0,1,5]]\n",
    "#3\n",
    "dependance[3] = [[5,2,2]]\n",
    "#4\n",
    "dependance[4] = [[3,3,7]]\n",
    "#5\n",
    "dependance[5] = [[1,2,6]]\n",
    "#6\n",
    "dependance[6] = [[6,2,8]]\n",
    "#7\n",
    "dependance[7] = [[2,6,2]]\n",
    "#8\n",
    "dependance[8] = [[1,6,4]]\n",
    "#9\n",
    "dependance[9] = []\n",
    "#10\n",
    "dependance[10] = [[1,9,1]]\n",
    "#11\n",
    "dependance[11] = [[1,5,4]]\n",
    "#12\n",
    "dependance[12] = [[2,5,7],[5,9,5]]\n",
    "#13\n",
    "dependance[13] = []\n",
    "#14\n",
    "dependance[14] = [[1,13,3]]\n",
    "#15\n",
    "dependance[15] = [[1,14,3]]\n",
    "#16\n",
    "dependance[16] = [[3,15,5]]\n",
    "#17\n",
    "dependance[17] = []\n",
    "#18\n",
    "dependance[18] = []\n",
    "#19\n",
    "dependance[19] = [[0,12,6],[2,18,2]]\n",
    "#20\n",
    "dependance[20] = [[0,15,3],[3,17,1],[5,19,5]]"
   ]
  },
  {
   "cell_type": "code",
   "execution_count": 59,
   "metadata": {
    "collapsed": false
   },
   "outputs": [],
   "source": [
    "wLists = {}\n",
    "for i in range(1,21):\n",
    "    wLists[i] =[word.lower() for word in wordList if len(word) == l[i]]\n",
    "    \n",
    "wLists[1] = [word.lower() for word in wordList if len(word) == l[1] and ((word[2] == 'z' and word[4] == 'n' and word[5]=='g') or (word[2] == 'm' and word[4] == 'a' and word[5] == 't'))]"
   ]
  },
  {
   "cell_type": "code",
   "execution_count": 66,
   "metadata": {
    "collapsed": false
   },
   "outputs": [],
   "source": [
    "def testPosition(n, testPuzzle, dependance, l, wLists, possibles=[]):\n",
    "    p = possibles\n",
    "    #set recursion bound\n",
    "    if n>20:\n",
    "        possibles.append(testPuzzle)\n",
    "        print(len(possibles))\n",
    "        return possibles\n",
    "    \n",
    "    #create a dictionary of word of the correct length\n",
    "    lenDict = wLists[n]\n",
    "    if n==16:\n",
    "        if testPuzzle[4] != 'whale' and testPuzzle[10] !='whale' and testPuzzle[13] != 'whale' and testPuzzle[14] != 'whale':\n",
    "            lenDict = ['whale']\n",
    "    if n==1:\n",
    "        print(len(lenDict))\n",
    "    for j, testWord in enumerate(lenDict):\n",
    "        if n==1:\n",
    "            print(j)\n",
    "        fail=False\n",
    "        #check conditionals for word n\n",
    "        for i in dependance[n]:\n",
    "            if i[1]>n:\n",
    "                break\n",
    "\n",
    "            #print(i)\n",
    "            selfChar = testWord[i[0]]\n",
    "            otherChar = testPuzzle[i[1]][i[2]]\n",
    "            if selfChar != otherChar:\n",
    "                fail = True\n",
    "                break\n",
    "        if not fail:\n",
    "            testPuzzle[n] = testWord\n",
    "            p = testPosition(n+1, testPuzzle, dependance, l, wLists, possibles=possibles)\n",
    "    return p"
   ]
  },
  {
   "cell_type": "code",
   "execution_count": 67,
   "metadata": {
    "collapsed": true
   },
   "outputs": [],
   "source": [
    "tp = {}\n",
    "for i in range(1,21):\n",
    "    tp[i] = ''"
   ]
  },
  {
   "cell_type": "code",
   "execution_count": 68,
   "metadata": {
    "collapsed": false
   },
   "outputs": [
    {
     "name": "stdout",
     "output_type": "stream",
     "text": [
      "10\n",
      "0\n"
     ]
    },
    {
     "ename": "KeyboardInterrupt",
     "evalue": "",
     "output_type": "error",
     "traceback": [
      "\u001b[0;31m---------------------------------------------------------------------------\u001b[0m",
      "\u001b[0;31mKeyboardInterrupt\u001b[0m                         Traceback (most recent call last)",
      "\u001b[0;32m<ipython-input-68-240c6f40d941>\u001b[0m in \u001b[0;36m<module>\u001b[0;34m()\u001b[0m\n\u001b[0;32m----> 1\u001b[0;31m \u001b[0mp\u001b[0m \u001b[1;33m=\u001b[0m \u001b[0mtestPosition\u001b[0m\u001b[1;33m(\u001b[0m\u001b[1;36m1\u001b[0m\u001b[1;33m,\u001b[0m \u001b[0mtp\u001b[0m\u001b[1;33m,\u001b[0m \u001b[0mdependance\u001b[0m\u001b[1;33m,\u001b[0m \u001b[0ml\u001b[0m\u001b[1;33m,\u001b[0m \u001b[0mwLists\u001b[0m\u001b[1;33m)\u001b[0m\u001b[1;33m\u001b[0m\u001b[0m\n\u001b[0m",
      "\u001b[0;32m<ipython-input-66-bc869384acd9>\u001b[0m in \u001b[0;36mtestPosition\u001b[0;34m(n, testPuzzle, dependance, l, wLists, possibles)\u001b[0m\n\u001b[1;32m     30\u001b[0m         \u001b[1;32mif\u001b[0m \u001b[1;32mnot\u001b[0m \u001b[0mfail\u001b[0m\u001b[1;33m:\u001b[0m\u001b[1;33m\u001b[0m\u001b[0m\n\u001b[1;32m     31\u001b[0m             \u001b[0mtestPuzzle\u001b[0m\u001b[1;33m[\u001b[0m\u001b[0mn\u001b[0m\u001b[1;33m]\u001b[0m \u001b[1;33m=\u001b[0m \u001b[0mtestWord\u001b[0m\u001b[1;33m\u001b[0m\u001b[0m\n\u001b[0;32m---> 32\u001b[0;31m             \u001b[0mp\u001b[0m \u001b[1;33m=\u001b[0m \u001b[0mtestPosition\u001b[0m\u001b[1;33m(\u001b[0m\u001b[0mn\u001b[0m\u001b[1;33m+\u001b[0m\u001b[1;36m1\u001b[0m\u001b[1;33m,\u001b[0m \u001b[0mtestPuzzle\u001b[0m\u001b[1;33m,\u001b[0m \u001b[0mdependance\u001b[0m\u001b[1;33m,\u001b[0m \u001b[0ml\u001b[0m\u001b[1;33m,\u001b[0m \u001b[0mwLists\u001b[0m\u001b[1;33m,\u001b[0m \u001b[0mpossibles\u001b[0m\u001b[1;33m=\u001b[0m\u001b[0mpossibles\u001b[0m\u001b[1;33m)\u001b[0m\u001b[1;33m\u001b[0m\u001b[0m\n\u001b[0m\u001b[1;32m     33\u001b[0m     \u001b[1;32mreturn\u001b[0m \u001b[0mp\u001b[0m\u001b[1;33m\u001b[0m\u001b[0m\n",
      "\u001b[0;32m<ipython-input-66-bc869384acd9>\u001b[0m in \u001b[0;36mtestPosition\u001b[0;34m(n, testPuzzle, dependance, l, wLists, possibles)\u001b[0m\n\u001b[1;32m     30\u001b[0m         \u001b[1;32mif\u001b[0m \u001b[1;32mnot\u001b[0m \u001b[0mfail\u001b[0m\u001b[1;33m:\u001b[0m\u001b[1;33m\u001b[0m\u001b[0m\n\u001b[1;32m     31\u001b[0m             \u001b[0mtestPuzzle\u001b[0m\u001b[1;33m[\u001b[0m\u001b[0mn\u001b[0m\u001b[1;33m]\u001b[0m \u001b[1;33m=\u001b[0m \u001b[0mtestWord\u001b[0m\u001b[1;33m\u001b[0m\u001b[0m\n\u001b[0;32m---> 32\u001b[0;31m             \u001b[0mp\u001b[0m \u001b[1;33m=\u001b[0m \u001b[0mtestPosition\u001b[0m\u001b[1;33m(\u001b[0m\u001b[0mn\u001b[0m\u001b[1;33m+\u001b[0m\u001b[1;36m1\u001b[0m\u001b[1;33m,\u001b[0m \u001b[0mtestPuzzle\u001b[0m\u001b[1;33m,\u001b[0m \u001b[0mdependance\u001b[0m\u001b[1;33m,\u001b[0m \u001b[0ml\u001b[0m\u001b[1;33m,\u001b[0m \u001b[0mwLists\u001b[0m\u001b[1;33m,\u001b[0m \u001b[0mpossibles\u001b[0m\u001b[1;33m=\u001b[0m\u001b[0mpossibles\u001b[0m\u001b[1;33m)\u001b[0m\u001b[1;33m\u001b[0m\u001b[0m\n\u001b[0m\u001b[1;32m     33\u001b[0m     \u001b[1;32mreturn\u001b[0m \u001b[0mp\u001b[0m\u001b[1;33m\u001b[0m\u001b[0m\n",
      "\u001b[0;32m<ipython-input-66-bc869384acd9>\u001b[0m in \u001b[0;36mtestPosition\u001b[0;34m(n, testPuzzle, dependance, l, wLists, possibles)\u001b[0m\n\u001b[1;32m     30\u001b[0m         \u001b[1;32mif\u001b[0m \u001b[1;32mnot\u001b[0m \u001b[0mfail\u001b[0m\u001b[1;33m:\u001b[0m\u001b[1;33m\u001b[0m\u001b[0m\n\u001b[1;32m     31\u001b[0m             \u001b[0mtestPuzzle\u001b[0m\u001b[1;33m[\u001b[0m\u001b[0mn\u001b[0m\u001b[1;33m]\u001b[0m \u001b[1;33m=\u001b[0m \u001b[0mtestWord\u001b[0m\u001b[1;33m\u001b[0m\u001b[0m\n\u001b[0;32m---> 32\u001b[0;31m             \u001b[0mp\u001b[0m \u001b[1;33m=\u001b[0m \u001b[0mtestPosition\u001b[0m\u001b[1;33m(\u001b[0m\u001b[0mn\u001b[0m\u001b[1;33m+\u001b[0m\u001b[1;36m1\u001b[0m\u001b[1;33m,\u001b[0m \u001b[0mtestPuzzle\u001b[0m\u001b[1;33m,\u001b[0m \u001b[0mdependance\u001b[0m\u001b[1;33m,\u001b[0m \u001b[0ml\u001b[0m\u001b[1;33m,\u001b[0m \u001b[0mwLists\u001b[0m\u001b[1;33m,\u001b[0m \u001b[0mpossibles\u001b[0m\u001b[1;33m=\u001b[0m\u001b[0mpossibles\u001b[0m\u001b[1;33m)\u001b[0m\u001b[1;33m\u001b[0m\u001b[0m\n\u001b[0m\u001b[1;32m     33\u001b[0m     \u001b[1;32mreturn\u001b[0m \u001b[0mp\u001b[0m\u001b[1;33m\u001b[0m\u001b[0m\n",
      "\u001b[0;32m<ipython-input-66-bc869384acd9>\u001b[0m in \u001b[0;36mtestPosition\u001b[0;34m(n, testPuzzle, dependance, l, wLists, possibles)\u001b[0m\n\u001b[1;32m     30\u001b[0m         \u001b[1;32mif\u001b[0m \u001b[1;32mnot\u001b[0m \u001b[0mfail\u001b[0m\u001b[1;33m:\u001b[0m\u001b[1;33m\u001b[0m\u001b[0m\n\u001b[1;32m     31\u001b[0m             \u001b[0mtestPuzzle\u001b[0m\u001b[1;33m[\u001b[0m\u001b[0mn\u001b[0m\u001b[1;33m]\u001b[0m \u001b[1;33m=\u001b[0m \u001b[0mtestWord\u001b[0m\u001b[1;33m\u001b[0m\u001b[0m\n\u001b[0;32m---> 32\u001b[0;31m             \u001b[0mp\u001b[0m \u001b[1;33m=\u001b[0m \u001b[0mtestPosition\u001b[0m\u001b[1;33m(\u001b[0m\u001b[0mn\u001b[0m\u001b[1;33m+\u001b[0m\u001b[1;36m1\u001b[0m\u001b[1;33m,\u001b[0m \u001b[0mtestPuzzle\u001b[0m\u001b[1;33m,\u001b[0m \u001b[0mdependance\u001b[0m\u001b[1;33m,\u001b[0m \u001b[0ml\u001b[0m\u001b[1;33m,\u001b[0m \u001b[0mwLists\u001b[0m\u001b[1;33m,\u001b[0m \u001b[0mpossibles\u001b[0m\u001b[1;33m=\u001b[0m\u001b[0mpossibles\u001b[0m\u001b[1;33m)\u001b[0m\u001b[1;33m\u001b[0m\u001b[0m\n\u001b[0m\u001b[1;32m     33\u001b[0m     \u001b[1;32mreturn\u001b[0m \u001b[0mp\u001b[0m\u001b[1;33m\u001b[0m\u001b[0m\n",
      "\u001b[0;32m<ipython-input-66-bc869384acd9>\u001b[0m in \u001b[0;36mtestPosition\u001b[0;34m(n, testPuzzle, dependance, l, wLists, possibles)\u001b[0m\n\u001b[1;32m     30\u001b[0m         \u001b[1;32mif\u001b[0m \u001b[1;32mnot\u001b[0m \u001b[0mfail\u001b[0m\u001b[1;33m:\u001b[0m\u001b[1;33m\u001b[0m\u001b[0m\n\u001b[1;32m     31\u001b[0m             \u001b[0mtestPuzzle\u001b[0m\u001b[1;33m[\u001b[0m\u001b[0mn\u001b[0m\u001b[1;33m]\u001b[0m \u001b[1;33m=\u001b[0m \u001b[0mtestWord\u001b[0m\u001b[1;33m\u001b[0m\u001b[0m\n\u001b[0;32m---> 32\u001b[0;31m             \u001b[0mp\u001b[0m \u001b[1;33m=\u001b[0m \u001b[0mtestPosition\u001b[0m\u001b[1;33m(\u001b[0m\u001b[0mn\u001b[0m\u001b[1;33m+\u001b[0m\u001b[1;36m1\u001b[0m\u001b[1;33m,\u001b[0m \u001b[0mtestPuzzle\u001b[0m\u001b[1;33m,\u001b[0m \u001b[0mdependance\u001b[0m\u001b[1;33m,\u001b[0m \u001b[0ml\u001b[0m\u001b[1;33m,\u001b[0m \u001b[0mwLists\u001b[0m\u001b[1;33m,\u001b[0m \u001b[0mpossibles\u001b[0m\u001b[1;33m=\u001b[0m\u001b[0mpossibles\u001b[0m\u001b[1;33m)\u001b[0m\u001b[1;33m\u001b[0m\u001b[0m\n\u001b[0m\u001b[1;32m     33\u001b[0m     \u001b[1;32mreturn\u001b[0m \u001b[0mp\u001b[0m\u001b[1;33m\u001b[0m\u001b[0m\n",
      "\u001b[0;32m<ipython-input-66-bc869384acd9>\u001b[0m in \u001b[0;36mtestPosition\u001b[0;34m(n, testPuzzle, dependance, l, wLists, possibles)\u001b[0m\n\u001b[1;32m     30\u001b[0m         \u001b[1;32mif\u001b[0m \u001b[1;32mnot\u001b[0m \u001b[0mfail\u001b[0m\u001b[1;33m:\u001b[0m\u001b[1;33m\u001b[0m\u001b[0m\n\u001b[1;32m     31\u001b[0m             \u001b[0mtestPuzzle\u001b[0m\u001b[1;33m[\u001b[0m\u001b[0mn\u001b[0m\u001b[1;33m]\u001b[0m \u001b[1;33m=\u001b[0m \u001b[0mtestWord\u001b[0m\u001b[1;33m\u001b[0m\u001b[0m\n\u001b[0;32m---> 32\u001b[0;31m             \u001b[0mp\u001b[0m \u001b[1;33m=\u001b[0m \u001b[0mtestPosition\u001b[0m\u001b[1;33m(\u001b[0m\u001b[0mn\u001b[0m\u001b[1;33m+\u001b[0m\u001b[1;36m1\u001b[0m\u001b[1;33m,\u001b[0m \u001b[0mtestPuzzle\u001b[0m\u001b[1;33m,\u001b[0m \u001b[0mdependance\u001b[0m\u001b[1;33m,\u001b[0m \u001b[0ml\u001b[0m\u001b[1;33m,\u001b[0m \u001b[0mwLists\u001b[0m\u001b[1;33m,\u001b[0m \u001b[0mpossibles\u001b[0m\u001b[1;33m=\u001b[0m\u001b[0mpossibles\u001b[0m\u001b[1;33m)\u001b[0m\u001b[1;33m\u001b[0m\u001b[0m\n\u001b[0m\u001b[1;32m     33\u001b[0m     \u001b[1;32mreturn\u001b[0m \u001b[0mp\u001b[0m\u001b[1;33m\u001b[0m\u001b[0m\n",
      "\u001b[0;32m<ipython-input-66-bc869384acd9>\u001b[0m in \u001b[0;36mtestPosition\u001b[0;34m(n, testPuzzle, dependance, l, wLists, possibles)\u001b[0m\n\u001b[1;32m     30\u001b[0m         \u001b[1;32mif\u001b[0m \u001b[1;32mnot\u001b[0m \u001b[0mfail\u001b[0m\u001b[1;33m:\u001b[0m\u001b[1;33m\u001b[0m\u001b[0m\n\u001b[1;32m     31\u001b[0m             \u001b[0mtestPuzzle\u001b[0m\u001b[1;33m[\u001b[0m\u001b[0mn\u001b[0m\u001b[1;33m]\u001b[0m \u001b[1;33m=\u001b[0m \u001b[0mtestWord\u001b[0m\u001b[1;33m\u001b[0m\u001b[0m\n\u001b[0;32m---> 32\u001b[0;31m             \u001b[0mp\u001b[0m \u001b[1;33m=\u001b[0m \u001b[0mtestPosition\u001b[0m\u001b[1;33m(\u001b[0m\u001b[0mn\u001b[0m\u001b[1;33m+\u001b[0m\u001b[1;36m1\u001b[0m\u001b[1;33m,\u001b[0m \u001b[0mtestPuzzle\u001b[0m\u001b[1;33m,\u001b[0m \u001b[0mdependance\u001b[0m\u001b[1;33m,\u001b[0m \u001b[0ml\u001b[0m\u001b[1;33m,\u001b[0m \u001b[0mwLists\u001b[0m\u001b[1;33m,\u001b[0m \u001b[0mpossibles\u001b[0m\u001b[1;33m=\u001b[0m\u001b[0mpossibles\u001b[0m\u001b[1;33m)\u001b[0m\u001b[1;33m\u001b[0m\u001b[0m\n\u001b[0m\u001b[1;32m     33\u001b[0m     \u001b[1;32mreturn\u001b[0m \u001b[0mp\u001b[0m\u001b[1;33m\u001b[0m\u001b[0m\n",
      "\u001b[0;32m<ipython-input-66-bc869384acd9>\u001b[0m in \u001b[0;36mtestPosition\u001b[0;34m(n, testPuzzle, dependance, l, wLists, possibles)\u001b[0m\n\u001b[1;32m     30\u001b[0m         \u001b[1;32mif\u001b[0m \u001b[1;32mnot\u001b[0m \u001b[0mfail\u001b[0m\u001b[1;33m:\u001b[0m\u001b[1;33m\u001b[0m\u001b[0m\n\u001b[1;32m     31\u001b[0m             \u001b[0mtestPuzzle\u001b[0m\u001b[1;33m[\u001b[0m\u001b[0mn\u001b[0m\u001b[1;33m]\u001b[0m \u001b[1;33m=\u001b[0m \u001b[0mtestWord\u001b[0m\u001b[1;33m\u001b[0m\u001b[0m\n\u001b[0;32m---> 32\u001b[0;31m             \u001b[0mp\u001b[0m \u001b[1;33m=\u001b[0m \u001b[0mtestPosition\u001b[0m\u001b[1;33m(\u001b[0m\u001b[0mn\u001b[0m\u001b[1;33m+\u001b[0m\u001b[1;36m1\u001b[0m\u001b[1;33m,\u001b[0m \u001b[0mtestPuzzle\u001b[0m\u001b[1;33m,\u001b[0m \u001b[0mdependance\u001b[0m\u001b[1;33m,\u001b[0m \u001b[0ml\u001b[0m\u001b[1;33m,\u001b[0m \u001b[0mwLists\u001b[0m\u001b[1;33m,\u001b[0m \u001b[0mpossibles\u001b[0m\u001b[1;33m=\u001b[0m\u001b[0mpossibles\u001b[0m\u001b[1;33m)\u001b[0m\u001b[1;33m\u001b[0m\u001b[0m\n\u001b[0m\u001b[1;32m     33\u001b[0m     \u001b[1;32mreturn\u001b[0m \u001b[0mp\u001b[0m\u001b[1;33m\u001b[0m\u001b[0m\n",
      "\u001b[0;32m<ipython-input-66-bc869384acd9>\u001b[0m in \u001b[0;36mtestPosition\u001b[0;34m(n, testPuzzle, dependance, l, wLists, possibles)\u001b[0m\n\u001b[1;32m     30\u001b[0m         \u001b[1;32mif\u001b[0m \u001b[1;32mnot\u001b[0m \u001b[0mfail\u001b[0m\u001b[1;33m:\u001b[0m\u001b[1;33m\u001b[0m\u001b[0m\n\u001b[1;32m     31\u001b[0m             \u001b[0mtestPuzzle\u001b[0m\u001b[1;33m[\u001b[0m\u001b[0mn\u001b[0m\u001b[1;33m]\u001b[0m \u001b[1;33m=\u001b[0m \u001b[0mtestWord\u001b[0m\u001b[1;33m\u001b[0m\u001b[0m\n\u001b[0;32m---> 32\u001b[0;31m             \u001b[0mp\u001b[0m \u001b[1;33m=\u001b[0m \u001b[0mtestPosition\u001b[0m\u001b[1;33m(\u001b[0m\u001b[0mn\u001b[0m\u001b[1;33m+\u001b[0m\u001b[1;36m1\u001b[0m\u001b[1;33m,\u001b[0m \u001b[0mtestPuzzle\u001b[0m\u001b[1;33m,\u001b[0m \u001b[0mdependance\u001b[0m\u001b[1;33m,\u001b[0m \u001b[0ml\u001b[0m\u001b[1;33m,\u001b[0m \u001b[0mwLists\u001b[0m\u001b[1;33m,\u001b[0m \u001b[0mpossibles\u001b[0m\u001b[1;33m=\u001b[0m\u001b[0mpossibles\u001b[0m\u001b[1;33m)\u001b[0m\u001b[1;33m\u001b[0m\u001b[0m\n\u001b[0m\u001b[1;32m     33\u001b[0m     \u001b[1;32mreturn\u001b[0m \u001b[0mp\u001b[0m\u001b[1;33m\u001b[0m\u001b[0m\n",
      "\u001b[0;32m<ipython-input-66-bc869384acd9>\u001b[0m in \u001b[0;36mtestPosition\u001b[0;34m(n, testPuzzle, dependance, l, wLists, possibles)\u001b[0m\n\u001b[1;32m     30\u001b[0m         \u001b[1;32mif\u001b[0m \u001b[1;32mnot\u001b[0m \u001b[0mfail\u001b[0m\u001b[1;33m:\u001b[0m\u001b[1;33m\u001b[0m\u001b[0m\n\u001b[1;32m     31\u001b[0m             \u001b[0mtestPuzzle\u001b[0m\u001b[1;33m[\u001b[0m\u001b[0mn\u001b[0m\u001b[1;33m]\u001b[0m \u001b[1;33m=\u001b[0m \u001b[0mtestWord\u001b[0m\u001b[1;33m\u001b[0m\u001b[0m\n\u001b[0;32m---> 32\u001b[0;31m             \u001b[0mp\u001b[0m \u001b[1;33m=\u001b[0m \u001b[0mtestPosition\u001b[0m\u001b[1;33m(\u001b[0m\u001b[0mn\u001b[0m\u001b[1;33m+\u001b[0m\u001b[1;36m1\u001b[0m\u001b[1;33m,\u001b[0m \u001b[0mtestPuzzle\u001b[0m\u001b[1;33m,\u001b[0m \u001b[0mdependance\u001b[0m\u001b[1;33m,\u001b[0m \u001b[0ml\u001b[0m\u001b[1;33m,\u001b[0m \u001b[0mwLists\u001b[0m\u001b[1;33m,\u001b[0m \u001b[0mpossibles\u001b[0m\u001b[1;33m=\u001b[0m\u001b[0mpossibles\u001b[0m\u001b[1;33m)\u001b[0m\u001b[1;33m\u001b[0m\u001b[0m\n\u001b[0m\u001b[1;32m     33\u001b[0m     \u001b[1;32mreturn\u001b[0m \u001b[0mp\u001b[0m\u001b[1;33m\u001b[0m\u001b[0m\n",
      "\u001b[0;32m<ipython-input-66-bc869384acd9>\u001b[0m in \u001b[0;36mtestPosition\u001b[0;34m(n, testPuzzle, dependance, l, wLists, possibles)\u001b[0m\n\u001b[1;32m     30\u001b[0m         \u001b[1;32mif\u001b[0m \u001b[1;32mnot\u001b[0m \u001b[0mfail\u001b[0m\u001b[1;33m:\u001b[0m\u001b[1;33m\u001b[0m\u001b[0m\n\u001b[1;32m     31\u001b[0m             \u001b[0mtestPuzzle\u001b[0m\u001b[1;33m[\u001b[0m\u001b[0mn\u001b[0m\u001b[1;33m]\u001b[0m \u001b[1;33m=\u001b[0m \u001b[0mtestWord\u001b[0m\u001b[1;33m\u001b[0m\u001b[0m\n\u001b[0;32m---> 32\u001b[0;31m             \u001b[0mp\u001b[0m \u001b[1;33m=\u001b[0m \u001b[0mtestPosition\u001b[0m\u001b[1;33m(\u001b[0m\u001b[0mn\u001b[0m\u001b[1;33m+\u001b[0m\u001b[1;36m1\u001b[0m\u001b[1;33m,\u001b[0m \u001b[0mtestPuzzle\u001b[0m\u001b[1;33m,\u001b[0m \u001b[0mdependance\u001b[0m\u001b[1;33m,\u001b[0m \u001b[0ml\u001b[0m\u001b[1;33m,\u001b[0m \u001b[0mwLists\u001b[0m\u001b[1;33m,\u001b[0m \u001b[0mpossibles\u001b[0m\u001b[1;33m=\u001b[0m\u001b[0mpossibles\u001b[0m\u001b[1;33m)\u001b[0m\u001b[1;33m\u001b[0m\u001b[0m\n\u001b[0m\u001b[1;32m     33\u001b[0m     \u001b[1;32mreturn\u001b[0m \u001b[0mp\u001b[0m\u001b[1;33m\u001b[0m\u001b[0m\n",
      "\u001b[0;32m<ipython-input-66-bc869384acd9>\u001b[0m in \u001b[0;36mtestPosition\u001b[0;34m(n, testPuzzle, dependance, l, wLists, possibles)\u001b[0m\n\u001b[1;32m     30\u001b[0m         \u001b[1;32mif\u001b[0m \u001b[1;32mnot\u001b[0m \u001b[0mfail\u001b[0m\u001b[1;33m:\u001b[0m\u001b[1;33m\u001b[0m\u001b[0m\n\u001b[1;32m     31\u001b[0m             \u001b[0mtestPuzzle\u001b[0m\u001b[1;33m[\u001b[0m\u001b[0mn\u001b[0m\u001b[1;33m]\u001b[0m \u001b[1;33m=\u001b[0m \u001b[0mtestWord\u001b[0m\u001b[1;33m\u001b[0m\u001b[0m\n\u001b[0;32m---> 32\u001b[0;31m             \u001b[0mp\u001b[0m \u001b[1;33m=\u001b[0m \u001b[0mtestPosition\u001b[0m\u001b[1;33m(\u001b[0m\u001b[0mn\u001b[0m\u001b[1;33m+\u001b[0m\u001b[1;36m1\u001b[0m\u001b[1;33m,\u001b[0m \u001b[0mtestPuzzle\u001b[0m\u001b[1;33m,\u001b[0m \u001b[0mdependance\u001b[0m\u001b[1;33m,\u001b[0m \u001b[0ml\u001b[0m\u001b[1;33m,\u001b[0m \u001b[0mwLists\u001b[0m\u001b[1;33m,\u001b[0m \u001b[0mpossibles\u001b[0m\u001b[1;33m=\u001b[0m\u001b[0mpossibles\u001b[0m\u001b[1;33m)\u001b[0m\u001b[1;33m\u001b[0m\u001b[0m\n\u001b[0m\u001b[1;32m     33\u001b[0m     \u001b[1;32mreturn\u001b[0m \u001b[0mp\u001b[0m\u001b[1;33m\u001b[0m\u001b[0m\n",
      "\u001b[0;32m<ipython-input-66-bc869384acd9>\u001b[0m in \u001b[0;36mtestPosition\u001b[0;34m(n, testPuzzle, dependance, l, wLists, possibles)\u001b[0m\n\u001b[1;32m     30\u001b[0m         \u001b[1;32mif\u001b[0m \u001b[1;32mnot\u001b[0m \u001b[0mfail\u001b[0m\u001b[1;33m:\u001b[0m\u001b[1;33m\u001b[0m\u001b[0m\n\u001b[1;32m     31\u001b[0m             \u001b[0mtestPuzzle\u001b[0m\u001b[1;33m[\u001b[0m\u001b[0mn\u001b[0m\u001b[1;33m]\u001b[0m \u001b[1;33m=\u001b[0m \u001b[0mtestWord\u001b[0m\u001b[1;33m\u001b[0m\u001b[0m\n\u001b[0;32m---> 32\u001b[0;31m             \u001b[0mp\u001b[0m \u001b[1;33m=\u001b[0m \u001b[0mtestPosition\u001b[0m\u001b[1;33m(\u001b[0m\u001b[0mn\u001b[0m\u001b[1;33m+\u001b[0m\u001b[1;36m1\u001b[0m\u001b[1;33m,\u001b[0m \u001b[0mtestPuzzle\u001b[0m\u001b[1;33m,\u001b[0m \u001b[0mdependance\u001b[0m\u001b[1;33m,\u001b[0m \u001b[0ml\u001b[0m\u001b[1;33m,\u001b[0m \u001b[0mwLists\u001b[0m\u001b[1;33m,\u001b[0m \u001b[0mpossibles\u001b[0m\u001b[1;33m=\u001b[0m\u001b[0mpossibles\u001b[0m\u001b[1;33m)\u001b[0m\u001b[1;33m\u001b[0m\u001b[0m\n\u001b[0m\u001b[1;32m     33\u001b[0m     \u001b[1;32mreturn\u001b[0m \u001b[0mp\u001b[0m\u001b[1;33m\u001b[0m\u001b[0m\n",
      "\u001b[0;32m<ipython-input-66-bc869384acd9>\u001b[0m in \u001b[0;36mtestPosition\u001b[0;34m(n, testPuzzle, dependance, l, wLists, possibles)\u001b[0m\n\u001b[1;32m     30\u001b[0m         \u001b[1;32mif\u001b[0m \u001b[1;32mnot\u001b[0m \u001b[0mfail\u001b[0m\u001b[1;33m:\u001b[0m\u001b[1;33m\u001b[0m\u001b[0m\n\u001b[1;32m     31\u001b[0m             \u001b[0mtestPuzzle\u001b[0m\u001b[1;33m[\u001b[0m\u001b[0mn\u001b[0m\u001b[1;33m]\u001b[0m \u001b[1;33m=\u001b[0m \u001b[0mtestWord\u001b[0m\u001b[1;33m\u001b[0m\u001b[0m\n\u001b[0;32m---> 32\u001b[0;31m             \u001b[0mp\u001b[0m \u001b[1;33m=\u001b[0m \u001b[0mtestPosition\u001b[0m\u001b[1;33m(\u001b[0m\u001b[0mn\u001b[0m\u001b[1;33m+\u001b[0m\u001b[1;36m1\u001b[0m\u001b[1;33m,\u001b[0m \u001b[0mtestPuzzle\u001b[0m\u001b[1;33m,\u001b[0m \u001b[0mdependance\u001b[0m\u001b[1;33m,\u001b[0m \u001b[0ml\u001b[0m\u001b[1;33m,\u001b[0m \u001b[0mwLists\u001b[0m\u001b[1;33m,\u001b[0m \u001b[0mpossibles\u001b[0m\u001b[1;33m=\u001b[0m\u001b[0mpossibles\u001b[0m\u001b[1;33m)\u001b[0m\u001b[1;33m\u001b[0m\u001b[0m\n\u001b[0m\u001b[1;32m     33\u001b[0m     \u001b[1;32mreturn\u001b[0m \u001b[0mp\u001b[0m\u001b[1;33m\u001b[0m\u001b[0m\n",
      "\u001b[0;32m<ipython-input-66-bc869384acd9>\u001b[0m in \u001b[0;36mtestPosition\u001b[0;34m(n, testPuzzle, dependance, l, wLists, possibles)\u001b[0m\n\u001b[1;32m     30\u001b[0m         \u001b[1;32mif\u001b[0m \u001b[1;32mnot\u001b[0m \u001b[0mfail\u001b[0m\u001b[1;33m:\u001b[0m\u001b[1;33m\u001b[0m\u001b[0m\n\u001b[1;32m     31\u001b[0m             \u001b[0mtestPuzzle\u001b[0m\u001b[1;33m[\u001b[0m\u001b[0mn\u001b[0m\u001b[1;33m]\u001b[0m \u001b[1;33m=\u001b[0m \u001b[0mtestWord\u001b[0m\u001b[1;33m\u001b[0m\u001b[0m\n\u001b[0;32m---> 32\u001b[0;31m             \u001b[0mp\u001b[0m \u001b[1;33m=\u001b[0m \u001b[0mtestPosition\u001b[0m\u001b[1;33m(\u001b[0m\u001b[0mn\u001b[0m\u001b[1;33m+\u001b[0m\u001b[1;36m1\u001b[0m\u001b[1;33m,\u001b[0m \u001b[0mtestPuzzle\u001b[0m\u001b[1;33m,\u001b[0m \u001b[0mdependance\u001b[0m\u001b[1;33m,\u001b[0m \u001b[0ml\u001b[0m\u001b[1;33m,\u001b[0m \u001b[0mwLists\u001b[0m\u001b[1;33m,\u001b[0m \u001b[0mpossibles\u001b[0m\u001b[1;33m=\u001b[0m\u001b[0mpossibles\u001b[0m\u001b[1;33m)\u001b[0m\u001b[1;33m\u001b[0m\u001b[0m\n\u001b[0m\u001b[1;32m     33\u001b[0m     \u001b[1;32mreturn\u001b[0m \u001b[0mp\u001b[0m\u001b[1;33m\u001b[0m\u001b[0m\n",
      "\u001b[0;32m<ipython-input-66-bc869384acd9>\u001b[0m in \u001b[0;36mtestPosition\u001b[0;34m(n, testPuzzle, dependance, l, wLists, possibles)\u001b[0m\n\u001b[1;32m     30\u001b[0m         \u001b[1;32mif\u001b[0m \u001b[1;32mnot\u001b[0m \u001b[0mfail\u001b[0m\u001b[1;33m:\u001b[0m\u001b[1;33m\u001b[0m\u001b[0m\n\u001b[1;32m     31\u001b[0m             \u001b[0mtestPuzzle\u001b[0m\u001b[1;33m[\u001b[0m\u001b[0mn\u001b[0m\u001b[1;33m]\u001b[0m \u001b[1;33m=\u001b[0m \u001b[0mtestWord\u001b[0m\u001b[1;33m\u001b[0m\u001b[0m\n\u001b[0;32m---> 32\u001b[0;31m             \u001b[0mp\u001b[0m \u001b[1;33m=\u001b[0m \u001b[0mtestPosition\u001b[0m\u001b[1;33m(\u001b[0m\u001b[0mn\u001b[0m\u001b[1;33m+\u001b[0m\u001b[1;36m1\u001b[0m\u001b[1;33m,\u001b[0m \u001b[0mtestPuzzle\u001b[0m\u001b[1;33m,\u001b[0m \u001b[0mdependance\u001b[0m\u001b[1;33m,\u001b[0m \u001b[0ml\u001b[0m\u001b[1;33m,\u001b[0m \u001b[0mwLists\u001b[0m\u001b[1;33m,\u001b[0m \u001b[0mpossibles\u001b[0m\u001b[1;33m=\u001b[0m\u001b[0mpossibles\u001b[0m\u001b[1;33m)\u001b[0m\u001b[1;33m\u001b[0m\u001b[0m\n\u001b[0m\u001b[1;32m     33\u001b[0m     \u001b[1;32mreturn\u001b[0m \u001b[0mp\u001b[0m\u001b[1;33m\u001b[0m\u001b[0m\n",
      "\u001b[0;32m<ipython-input-66-bc869384acd9>\u001b[0m in \u001b[0;36mtestPosition\u001b[0;34m(n, testPuzzle, dependance, l, wLists, possibles)\u001b[0m\n\u001b[1;32m     30\u001b[0m         \u001b[1;32mif\u001b[0m \u001b[1;32mnot\u001b[0m \u001b[0mfail\u001b[0m\u001b[1;33m:\u001b[0m\u001b[1;33m\u001b[0m\u001b[0m\n\u001b[1;32m     31\u001b[0m             \u001b[0mtestPuzzle\u001b[0m\u001b[1;33m[\u001b[0m\u001b[0mn\u001b[0m\u001b[1;33m]\u001b[0m \u001b[1;33m=\u001b[0m \u001b[0mtestWord\u001b[0m\u001b[1;33m\u001b[0m\u001b[0m\n\u001b[0;32m---> 32\u001b[0;31m             \u001b[0mp\u001b[0m \u001b[1;33m=\u001b[0m \u001b[0mtestPosition\u001b[0m\u001b[1;33m(\u001b[0m\u001b[0mn\u001b[0m\u001b[1;33m+\u001b[0m\u001b[1;36m1\u001b[0m\u001b[1;33m,\u001b[0m \u001b[0mtestPuzzle\u001b[0m\u001b[1;33m,\u001b[0m \u001b[0mdependance\u001b[0m\u001b[1;33m,\u001b[0m \u001b[0ml\u001b[0m\u001b[1;33m,\u001b[0m \u001b[0mwLists\u001b[0m\u001b[1;33m,\u001b[0m \u001b[0mpossibles\u001b[0m\u001b[1;33m=\u001b[0m\u001b[0mpossibles\u001b[0m\u001b[1;33m)\u001b[0m\u001b[1;33m\u001b[0m\u001b[0m\n\u001b[0m\u001b[1;32m     33\u001b[0m     \u001b[1;32mreturn\u001b[0m \u001b[0mp\u001b[0m\u001b[1;33m\u001b[0m\u001b[0m\n",
      "\u001b[0;32m<ipython-input-66-bc869384acd9>\u001b[0m in \u001b[0;36mtestPosition\u001b[0;34m(n, testPuzzle, dependance, l, wLists, possibles)\u001b[0m\n\u001b[1;32m     30\u001b[0m         \u001b[1;32mif\u001b[0m \u001b[1;32mnot\u001b[0m \u001b[0mfail\u001b[0m\u001b[1;33m:\u001b[0m\u001b[1;33m\u001b[0m\u001b[0m\n\u001b[1;32m     31\u001b[0m             \u001b[0mtestPuzzle\u001b[0m\u001b[1;33m[\u001b[0m\u001b[0mn\u001b[0m\u001b[1;33m]\u001b[0m \u001b[1;33m=\u001b[0m \u001b[0mtestWord\u001b[0m\u001b[1;33m\u001b[0m\u001b[0m\n\u001b[0;32m---> 32\u001b[0;31m             \u001b[0mp\u001b[0m \u001b[1;33m=\u001b[0m \u001b[0mtestPosition\u001b[0m\u001b[1;33m(\u001b[0m\u001b[0mn\u001b[0m\u001b[1;33m+\u001b[0m\u001b[1;36m1\u001b[0m\u001b[1;33m,\u001b[0m \u001b[0mtestPuzzle\u001b[0m\u001b[1;33m,\u001b[0m \u001b[0mdependance\u001b[0m\u001b[1;33m,\u001b[0m \u001b[0ml\u001b[0m\u001b[1;33m,\u001b[0m \u001b[0mwLists\u001b[0m\u001b[1;33m,\u001b[0m \u001b[0mpossibles\u001b[0m\u001b[1;33m=\u001b[0m\u001b[0mpossibles\u001b[0m\u001b[1;33m)\u001b[0m\u001b[1;33m\u001b[0m\u001b[0m\n\u001b[0m\u001b[1;32m     33\u001b[0m     \u001b[1;32mreturn\u001b[0m \u001b[0mp\u001b[0m\u001b[1;33m\u001b[0m\u001b[0m\n",
      "\u001b[0;32m<ipython-input-66-bc869384acd9>\u001b[0m in \u001b[0;36mtestPosition\u001b[0;34m(n, testPuzzle, dependance, l, wLists, possibles)\u001b[0m\n\u001b[1;32m     30\u001b[0m         \u001b[1;32mif\u001b[0m \u001b[1;32mnot\u001b[0m \u001b[0mfail\u001b[0m\u001b[1;33m:\u001b[0m\u001b[1;33m\u001b[0m\u001b[0m\n\u001b[1;32m     31\u001b[0m             \u001b[0mtestPuzzle\u001b[0m\u001b[1;33m[\u001b[0m\u001b[0mn\u001b[0m\u001b[1;33m]\u001b[0m \u001b[1;33m=\u001b[0m \u001b[0mtestWord\u001b[0m\u001b[1;33m\u001b[0m\u001b[0m\n\u001b[0;32m---> 32\u001b[0;31m             \u001b[0mp\u001b[0m \u001b[1;33m=\u001b[0m \u001b[0mtestPosition\u001b[0m\u001b[1;33m(\u001b[0m\u001b[0mn\u001b[0m\u001b[1;33m+\u001b[0m\u001b[1;36m1\u001b[0m\u001b[1;33m,\u001b[0m \u001b[0mtestPuzzle\u001b[0m\u001b[1;33m,\u001b[0m \u001b[0mdependance\u001b[0m\u001b[1;33m,\u001b[0m \u001b[0ml\u001b[0m\u001b[1;33m,\u001b[0m \u001b[0mwLists\u001b[0m\u001b[1;33m,\u001b[0m \u001b[0mpossibles\u001b[0m\u001b[1;33m=\u001b[0m\u001b[0mpossibles\u001b[0m\u001b[1;33m)\u001b[0m\u001b[1;33m\u001b[0m\u001b[0m\n\u001b[0m\u001b[1;32m     33\u001b[0m     \u001b[1;32mreturn\u001b[0m \u001b[0mp\u001b[0m\u001b[1;33m\u001b[0m\u001b[0m\n",
      "\u001b[0;32m<ipython-input-66-bc869384acd9>\u001b[0m in \u001b[0;36mtestPosition\u001b[0;34m(n, testPuzzle, dependance, l, wLists, possibles)\u001b[0m\n\u001b[1;32m     23\u001b[0m \u001b[1;33m\u001b[0m\u001b[0m\n\u001b[1;32m     24\u001b[0m             \u001b[1;31m#print(i)\u001b[0m\u001b[1;33m\u001b[0m\u001b[1;33m\u001b[0m\u001b[0m\n\u001b[0;32m---> 25\u001b[0;31m             \u001b[0mselfChar\u001b[0m \u001b[1;33m=\u001b[0m \u001b[0mtestWord\u001b[0m\u001b[1;33m[\u001b[0m\u001b[0mi\u001b[0m\u001b[1;33m[\u001b[0m\u001b[1;36m0\u001b[0m\u001b[1;33m]\u001b[0m\u001b[1;33m]\u001b[0m\u001b[1;33m\u001b[0m\u001b[0m\n\u001b[0m\u001b[1;32m     26\u001b[0m             \u001b[0motherChar\u001b[0m \u001b[1;33m=\u001b[0m \u001b[0mtestPuzzle\u001b[0m\u001b[1;33m[\u001b[0m\u001b[0mi\u001b[0m\u001b[1;33m[\u001b[0m\u001b[1;36m1\u001b[0m\u001b[1;33m]\u001b[0m\u001b[1;33m]\u001b[0m\u001b[1;33m[\u001b[0m\u001b[0mi\u001b[0m\u001b[1;33m[\u001b[0m\u001b[1;36m2\u001b[0m\u001b[1;33m]\u001b[0m\u001b[1;33m]\u001b[0m\u001b[1;33m\u001b[0m\u001b[0m\n\u001b[1;32m     27\u001b[0m             \u001b[1;32mif\u001b[0m \u001b[0mselfChar\u001b[0m \u001b[1;33m!=\u001b[0m \u001b[0motherChar\u001b[0m\u001b[1;33m:\u001b[0m\u001b[1;33m\u001b[0m\u001b[0m\n",
      "\u001b[0;31mKeyboardInterrupt\u001b[0m: "
     ]
    }
   ],
   "source": [
    "p = testPosition(1, tp, dependance, l, wLists)"
   ]
  },
  {
   "cell_type": "code",
   "execution_count": 60,
   "metadata": {
    "collapsed": false
   },
   "outputs": [
    {
     "data": {
      "text/plain": [
       "['bemoat',\n",
       " 'combat',\n",
       " 'gazing',\n",
       " 'hamfat',\n",
       " 'hazing',\n",
       " 'limbat',\n",
       " 'mozing',\n",
       " 'sizing',\n",
       " 'tomcat',\n",
       " 'wombat']"
      ]
     },
     "execution_count": 60,
     "metadata": {},
     "output_type": "execute_result"
    }
   ],
   "source": [
    "wLists[1]"
   ]
  },
  {
   "cell_type": "code",
   "execution_count": 61,
   "metadata": {
    "collapsed": false
   },
   "outputs": [
    {
     "data": {
      "text/plain": [
       "False"
      ]
     },
     "execution_count": 61,
     "metadata": {},
     "output_type": "execute_result"
    }
   ],
   "source": [
    "'oozing' in wordList"
   ]
  },
  {
   "cell_type": "code",
   "execution_count": 53,
   "metadata": {
    "collapsed": false
   },
   "outputs": [
    {
     "data": {
      "text/plain": [
       "6"
      ]
     },
     "execution_count": 53,
     "metadata": {},
     "output_type": "execute_result"
    }
   ],
   "source": [
    "len(a)"
   ]
  },
  {
   "cell_type": "code",
   "execution_count": 54,
   "metadata": {
    "collapsed": false
   },
   "outputs": [
    {
     "data": {
      "text/plain": [
       "'b'"
      ]
     },
     "execution_count": 54,
     "metadata": {},
     "output_type": "execute_result"
    }
   ],
   "source": [
    "a[3]"
   ]
  },
  {
   "cell_type": "code",
   "execution_count": null,
   "metadata": {
    "collapsed": true
   },
   "outputs": [],
   "source": []
  }
 ],
 "metadata": {
  "kernelspec": {
   "display_name": "Python 3",
   "language": "python",
   "name": "python3"
  },
  "language_info": {
   "codemirror_mode": {
    "name": "ipython",
    "version": 3
   },
   "file_extension": ".py",
   "mimetype": "text/x-python",
   "name": "python",
   "nbconvert_exporter": "python",
   "pygments_lexer": "ipython3",
   "version": "3.6.0"
  }
 },
 "nbformat": 4,
 "nbformat_minor": 2
}
